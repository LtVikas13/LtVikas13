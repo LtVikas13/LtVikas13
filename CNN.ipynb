{
  "nbformat": 4,
  "nbformat_minor": 0,
  "metadata": {
    "colab": {
      "provenance": [],
      "authorship_tag": "ABX9TyOfniwZDn8Y824UgXmys+0l",
      "include_colab_link": true
    },
    "kernelspec": {
      "name": "python3",
      "display_name": "Python 3"
    },
    "language_info": {
      "name": "python"
    }
  },
  "cells": [
    {
      "cell_type": "markdown",
      "metadata": {
        "id": "view-in-github",
        "colab_type": "text"
      },
      "source": [
        "<a href=\"https://colab.research.google.com/github/LtVikas13/LtVikas13/blob/main/CNN.ipynb\" target=\"_parent\"><img src=\"https://colab.research.google.com/assets/colab-badge.svg\" alt=\"Open In Colab\"/></a>"
      ]
    },
    {
      "cell_type": "code",
      "execution_count": 1,
      "metadata": {
        "id": "ObTu3SFSa9S0"
      },
      "outputs": [],
      "source": [
        "from tensorflow import keras"
      ]
    },
    {
      "cell_type": "code",
      "source": [
        "from keras import datasets,layers,models\n",
        "import matplotlib.pyplot as plt\n",
        "import numpy as np\n"
      ],
      "metadata": {
        "id": "oy2Rtl8GbIPI"
      },
      "execution_count": 3,
      "outputs": []
    },
    {
      "cell_type": "code",
      "source": [
        "(X_train,y_train),(X_test,y_test)=datasets.cifar10.load_data()"
      ],
      "metadata": {
        "colab": {
          "base_uri": "https://localhost:8080/",
          "height": 0
        },
        "id": "_atjmcOubVaU",
        "outputId": "032c96c9-9021-4682-f2f6-326d4634e21e"
      },
      "execution_count": 5,
      "outputs": [
        {
          "output_type": "stream",
          "name": "stdout",
          "text": [
            "Downloading data from https://www.cs.toronto.edu/~kriz/cifar-10-python.tar.gz\n",
            "170498071/170498071 [==============================] - 4s 0us/step\n"
          ]
        }
      ]
    },
    {
      "cell_type": "code",
      "source": [
        "X_train.shape"
      ],
      "metadata": {
        "colab": {
          "base_uri": "https://localhost:8080/",
          "height": 0
        },
        "id": "A9SbLwjpbr_v",
        "outputId": "096b9b19-b034-4c73-faba-a57a9713e12f"
      },
      "execution_count": 7,
      "outputs": [
        {
          "output_type": "execute_result",
          "data": {
            "text/plain": [
              "(50000, 32, 32, 3)"
            ]
          },
          "metadata": {},
          "execution_count": 7
        }
      ]
    },
    {
      "cell_type": "code",
      "source": [
        "plt.matshow(X_train[10])"
      ],
      "metadata": {
        "colab": {
          "base_uri": "https://localhost:8080/",
          "height": 292
        },
        "id": "zxx8O7cEdGDh",
        "outputId": "41a2afc0-79e6-4ca5-a92d-98a82c8d927c"
      },
      "execution_count": 8,
      "outputs": [
        {
          "output_type": "execute_result",
          "data": {
            "text/plain": [
              "<matplotlib.image.AxesImage at 0x7f048b0d2e50>"
            ]
          },
          "metadata": {},
          "execution_count": 8
        },
        {
          "output_type": "display_data",
          "data": {
            "text/plain": [
              "<Figure size 288x288 with 1 Axes>"
            ],
            "image/png": "[encoded data removed]"
          },
          "metadata": {
            "needs_background": "light"
          }
        }
      ]
    },
    {
      "cell_type": "code",
      "source": [
        "plt.matshow(X_train[4])\n"
      ],
      "metadata": {
        "colab": {
          "base_uri": "https://localhost:8080/",
          "height": 292
        },
        "id": "oMRr6LA7dLQ5",
        "outputId": "417d825c-eaba-4e82-d6f6-3a9334f40a60"
      },
      "execution_count": 9,
      "outputs": [
        {
          "output_type": "execute_result",
          "data": {
            "text/plain": [
              "<matplotlib.image.AxesImage at 0x7f048abadc90>"
            ]
          },
          "metadata": {},
          "execution_count": 9
        },
        {
          "output_type": "display_data",
          "data": {
            "text/plain": [
              "<Figure size 288x288 with 1 Axes>"
            ],
            "image/png": "[encoded data removed]"
          },
          "metadata": {
            "needs_background": "light"
          }
        }
      ]
    },
    {
      "cell_type": "code",
      "source": [
        "plt.matshow(X_train[0])\n"
      ],
      "metadata": {
        "colab": {
          "base_uri": "https://localhost:8080/",
          "height": 292
        },
        "id": "QNG5muLNdScH",
        "outputId": "eeb08619-9c87-4104-fd82-2f591d8d4641"
      },
      "execution_count": 10,
      "outputs": [
        {
          "output_type": "execute_result",
          "data": {
            "text/plain": [
              "<matplotlib.image.AxesImage at 0x7f048ab2f690>"
            ]
          },
          "metadata": {},
          "execution_count": 10
        },
        {
          "output_type": "display_data",
          "data": {
            "text/plain": [
              "<Figure size 288x288 with 1 Axes>"
            ],
            "image/png": "[encoded data removed]"
          },
          "metadata": {
            "needs_background": "light"
          }
        }
      ]
    },
    {
      "cell_type": "code",
      "source": [
        "y_train[:5]\n"
      ],
      "metadata": {
        "colab": {
          "base_uri": "https://localhost:8080/",
          "height": 0
        },
        "id": "9SMoXw_cdYQ-",
        "outputId": "87c8ebfd-04bb-4637-fd96-960241c84ac0"
      },
      "execution_count": 13,
      "outputs": [
        {
          "output_type": "execute_result",
          "data": {
            "text/plain": [
              "array([[6],\n",
              "       [9],\n",
              "       [9],\n",
              "       [4],\n",
              "       [1]], dtype=uint8)"
            ]
          },
          "metadata": {},
          "execution_count": 13
        }
      ]
    },
    {
      "cell_type": "code",
      "source": [
        "y_train=y_train.reshape(-1,)\n"
      ],
      "metadata": {
        "id": "lJbHmkxodtR3"
      },
      "execution_count": 14,
      "outputs": []
    },
    {
      "cell_type": "code",
      "source": [
        "y_train[:5]"
      ],
      "metadata": {
        "colab": {
          "base_uri": "https://localhost:8080/",
          "height": 0
        },
        "id": "_Jny-8iHd111",
        "outputId": "72810ece-72dc-44c0-d757-350a76dee1e0"
      },
      "execution_count": 15,
      "outputs": [
        {
          "output_type": "execute_result",
          "data": {
            "text/plain": [
              "array([6, 9, 9, 4, 1], dtype=uint8)"
            ]
          },
          "metadata": {},
          "execution_count": 15
        }
      ]
    },
    {
      "cell_type": "code",
      "source": [
        "X_train[3]"
      ],
      "metadata": {
        "colab": {
          "base_uri": "https://localhost:8080/",
          "height": 0
        },
        "id": "5L9Shj3Fd95_",
        "outputId": "6e3ab5bf-9da9-4c06-cca1-7320e28d1e00"
      },
      "execution_count": 16,
      "outputs": [
        {
          "output_type": "execute_result",
          "data": {
            "text/plain": [
              "array([[[ 28,  25,  10],\n",
              "        [ 37,  34,  19],\n",
              "        [ 38,  35,  20],\n",
              "        ...,\n",
              "        [ 76,  67,  39],\n",
              "        [ 81,  72,  43],\n",
              "        [ 85,  76,  47]],\n",
              "\n",
              "       [[ 33,  28,  13],\n",
              "        [ 34,  30,  14],\n",
              "        [ 32,  27,  12],\n",
              "        ...,\n",
              "        [ 95,  82,  55],\n",
              "        [ 96,  82,  56],\n",
              "        [ 85,  72,  45]],\n",
              "\n",
              "       [[ 39,  32,  15],\n",
              "        [ 40,  33,  17],\n",
              "        [ 57,  50,  33],\n",
              "        ...,\n",
              "        [ 93,  76,  52],\n",
              "        [107,  89,  66],\n",
              "        [ 95,  77,  54]],\n",
              "\n",
              "       ...,\n",
              "\n",
              "       [[ 83,  73,  52],\n",
              "        [ 87,  77,  56],\n",
              "        [ 84,  74,  52],\n",
              "        ...,\n",
              "        [ 99,  93,  70],\n",
              "        [ 90,  84,  61],\n",
              "        [ 81,  75,  52]],\n",
              "\n",
              "       [[ 88,  72,  51],\n",
              "        [ 90,  74,  52],\n",
              "        [ 93,  77,  56],\n",
              "        ...,\n",
              "        [ 80,  74,  53],\n",
              "        [ 76,  70,  49],\n",
              "        [ 82,  76,  55]],\n",
              "\n",
              "       [[ 97,  78,  56],\n",
              "        [ 94,  75,  53],\n",
              "        [ 93,  75,  53],\n",
              "        ...,\n",
              "        [ 54,  47,  28],\n",
              "        [ 63,  56,  37],\n",
              "        [ 72,  65,  46]]], dtype=uint8)"
            ]
          },
          "metadata": {},
          "execution_count": 16
        }
      ]
    },
    {
      "cell_type": "code",
      "source": [
        "plt.matshow(X_train[3])"
      ],
      "metadata": {
        "colab": {
          "base_uri": "https://localhost:8080/",
          "height": 292
        },
        "id": "xJyK28UbeChG",
        "outputId": "635f633a-59e6-4c27-83ff-7fecf316b885"
      },
      "execution_count": 17,
      "outputs": [
        {
          "output_type": "execute_result",
          "data": {
            "text/plain": [
              "<matplotlib.image.AxesImage at 0x7f048aaaa310>"
            ]
          },
          "metadata": {},
          "execution_count": 17
        },
        {
          "output_type": "display_data",
          "data": {
            "text/plain": [
              "<Figure size 288x288 with 1 Axes>"
            ],
            "image/png": "[encoded data removed]"
          },
          "metadata": {
            "needs_background": "light"
          }
        }
      ]
    },
    {
      "cell_type": "code",
      "source": [
        "y_train[3]\n"
      ],
      "metadata": {
        "colab": {
          "base_uri": "https://localhost:8080/",
          "height": 0
        },
        "id": "pEChsU4xeKxX",
        "outputId": "d1493492-078a-428f-b7e6-bb700ecdcac6"
      },
      "execution_count": 18,
      "outputs": [
        {
          "output_type": "execute_result",
          "data": {
            "text/plain": [
              "4"
            ]
          },
          "metadata": {},
          "execution_count": 18
        }
      ]
    },
    {
      "cell_type": "code",
      "source": [
        "classes =[\"airplane\",\"automobile\",\"bird\",\"cat\",\"deer\",\"dog\",\"frog\",\"horse\",\"ship\",\"truck\"]"
      ],
      "metadata": {
        "id": "8SAfHVFmeXWr"
      },
      "execution_count": 19,
      "outputs": []
    },
    {
      "cell_type": "code",
      "source": [
        "classes"
      ],
      "metadata": {
        "colab": {
          "base_uri": "https://localhost:8080/",
          "height": 0
        },
        "id": "wky932i8fTLV",
        "outputId": "b8e42852-d811-4e7a-9bd1-0262f9cdd555"
      },
      "execution_count": 20,
      "outputs": [
        {
          "output_type": "execute_result",
          "data": {
            "text/plain": [
              "['airplane',\n",
              " 'automobile',\n",
              " 'bird',\n",
              " 'cat',\n",
              " 'deer',\n",
              " 'dog',\n",
              " 'frog',\n",
              " 'horse',\n",
              " 'ship',\n",
              " 'truck']"
            ]
          },
          "metadata": {},
          "execution_count": 20
        }
      ]
    },
    {
      "cell_type": "code",
      "source": [
        "def  plot_sample(X,y,index):\n",
        "  plt.figure(figsize=(15,5))\n",
        "\n",
        "  plt.imshow(X[index])\n",
        "  plt.xlabel(classes[y[index]])\n",
        "\n",
        "  \n"
      ],
      "metadata": {
        "id": "tHtZpZ4vfVuy"
      },
      "execution_count": 24,
      "outputs": []
    },
    {
      "cell_type": "code",
      "source": [
        "plot_sample(X_train,y_train,3)"
      ],
      "metadata": {
        "colab": {
          "base_uri": "https://localhost:8080/",
          "height": 334
        },
        "id": "FwY4TP56f5qZ",
        "outputId": "cabb928c-3f83-4b85-b629-3d3a9f1b2a5e"
      },
      "execution_count": 25,
      "outputs": [
        {
          "output_type": "display_data",
          "data": {
            "text/plain": [
              "<Figure size 1080x360 with 1 Axes>"
            ],
            "image/png": "[encoded data removed]"
          },
          "metadata": {
            "needs_background": "light"
          }
        }
      ]
    },
    {
      "cell_type": "code",
      "source": [
        "plot_sample(X_train,y_train,5)\n",
        "\n"
      ],
      "metadata": {
        "colab": {
          "base_uri": "https://localhost:8080/",
          "height": 334
        },
        "id": "PYhbmBsxgdns",
        "outputId": "4a1bc53d-472d-499a-f5d4-c8887bf21fcb"
      },
      "execution_count": 26,
      "outputs": [
        {
          "output_type": "display_data",
          "data": {
            "text/plain": [
              "<Figure size 1080x360 with 1 Axes>"
            ],
            "image/png": "[encoded data removed]"
          },
          "metadata": {
            "needs_background": "light"
          }
        }
      ]
    },
    {
      "cell_type": "code",
      "source": [
        "X_train=X_train/255.0\n",
        "y_train=y_train/255.0"
      ],
      "metadata": {
        "id": "t_I86t9ngibn"
      },
      "execution_count": 27,
      "outputs": []
    },
    {
      "cell_type": "code",
      "source": [
        "X_train[34]\n",
        "\n",
        "\n"
      ],
      "metadata": {
        "colab": {
          "base_uri": "https://localhost:8080/",
          "height": 0
        },
        "id": "VcA9aqJghAii",
        "outputId": "e50e2e66-de07-4729-c2fc-a072996b7c05"
      },
      "execution_count": 28,
      "outputs": [
        {
          "output_type": "execute_result",
          "data": {
            "text/plain": [
              "array([[[0.6745098 , 0.73333333, 0.50980392],\n",
              "        [0.67058824, 0.72941176, 0.50980392],\n",
              "        [0.65882353, 0.71372549, 0.49411765],\n",
              "        ...,\n",
              "        [0.61960784, 0.66666667, 0.44313725],\n",
              "        [0.61176471, 0.6627451 , 0.44313725],\n",
              "        [0.57647059, 0.63921569, 0.41960784]],\n",
              "\n",
              "       [[0.6627451 , 0.7254902 , 0.48235294],\n",
              "        [0.65882353, 0.71764706, 0.47843137],\n",
              "        [0.65882353, 0.72156863, 0.48235294],\n",
              "        ...,\n",
              "        [0.61960784, 0.68627451, 0.44705882],\n",
              "        [0.59607843, 0.66666667, 0.43137255],\n",
              "        [0.56862745, 0.64705882, 0.41960784]],\n",
              "\n",
              "       [[0.68235294, 0.74509804, 0.49411765],\n",
              "        [0.6627451 , 0.7254902 , 0.47843137],\n",
              "        [0.66666667, 0.72941176, 0.48235294],\n",
              "        ...,\n",
              "        [0.61568627, 0.69411765, 0.45098039],\n",
              "        [0.58431373, 0.66666667, 0.42352941],\n",
              "        [0.57254902, 0.65882353, 0.42745098]],\n",
              "\n",
              "       ...,\n",
              "\n",
              "       [[0.58823529, 0.63921569, 0.39215686],\n",
              "        [0.61568627, 0.65882353, 0.40392157],\n",
              "        [0.63529412, 0.66666667, 0.40784314],\n",
              "        ...,\n",
              "        [0.61960784, 0.65882353, 0.42352941],\n",
              "        [0.57647059, 0.62745098, 0.38823529],\n",
              "        [0.54509804, 0.60392157, 0.35294118]],\n",
              "\n",
              "       [[0.56078431, 0.60392157, 0.34901961],\n",
              "        [0.58431373, 0.61960784, 0.35294118],\n",
              "        [0.60784314, 0.63137255, 0.37647059],\n",
              "        ...,\n",
              "        [0.58039216, 0.61568627, 0.38823529],\n",
              "        [0.56078431, 0.6       , 0.36078431],\n",
              "        [0.54901961, 0.6       , 0.34509804]],\n",
              "\n",
              "       [[0.58039216, 0.61960784, 0.36470588],\n",
              "        [0.57254902, 0.60784314, 0.34901961],\n",
              "        [0.58431373, 0.61568627, 0.36078431],\n",
              "        ...,\n",
              "        [0.5372549 , 0.56078431, 0.3372549 ],\n",
              "        [0.5254902 , 0.54509804, 0.31372549],\n",
              "        [0.53333333, 0.56078431, 0.32156863]]])"
            ]
          },
          "metadata": {},
          "execution_count": 28
        }
      ]
    },
    {
      "cell_type": "code",
      "source": [
        "cnn=models.Sequential()\n",
        "\n"
      ],
      "metadata": {
        "id": "MCscoivQhEXk"
      },
      "execution_count": 29,
      "outputs": []
    },
    {
      "cell_type": "code",
      "source": [
        "cnn.add(layers.Conv2D(32,(3,3),activation='relu',input_shape=(32,32,3)))\n",
        "cnn.add(layers.MaxPool2D((2,2)))\n",
        "cnn.add(layers.Conv2D(64,(3,3),activation='relu',))\n",
        "cnn.add(layers.MaxPool2D((2,2)))\n",
        "cnn.add(layers.Conv2D(64,(3,3),activation='relu'))\n",
        "cnn.add(layers.Flatten())\n",
        "cnn.add(layers.Dense(64,activation='relu'))\n",
        "cnn.add(layers.Dense(64,activation='softmax'))"
      ],
      "metadata": {
        "id": "bgWDUI0YhyfD"
      },
      "execution_count": 30,
      "outputs": []
    },
    {
      "cell_type": "code",
      "source": [
        "cnn.compile(optimizer='adam',loss='sparse_categorical_crossentropy',metrics=['accuracy'])\n"
      ],
      "metadata": {
        "id": "7pLtl5BtkHVs"
      },
      "execution_count": 31,
      "outputs": []
    },
    {
      "cell_type": "code",
      "source": [
        "cnn.fit(X_train,y_train,epochs=20,validation_data=(X_test,y_test))\n",
        "\n"
      ],
      "metadata": {
        "colab": {
          "base_uri": "https://localhost:8080/",
          "height": 0
        },
        "id": "Uvqk-2prkifk",
        "outputId": "97d2e1ae-939b-439e-b93e-ab49bdaccd06"
      },
      "execution_count": null,
      "outputs": [
        {
          "output_type": "stream",
          "name": "stdout",
          "text": [
            "Epoch 1/20\n",
            "1563/1563 [==============================] - 99s 63ms/step - loss: 0.0145 - accuracy: 0.1000 - val_loss: 32311.0312 - val_accuracy: 0.1000\n",
            "Epoch 2/20\n",
            "1563/1563 [==============================] - 99s 63ms/step - loss: 2.3842e-12 - accuracy: 0.1000 - val_loss: 32311.1387 - val_accuracy: 0.1000\n",
            "Epoch 3/20\n",
            "1563/1563 [==============================] - 98s 62ms/step - loss: 2.3842e-12 - accuracy: 0.1000 - val_loss: 32311.3926 - val_accuracy: 0.1000\n",
            "Epoch 4/20\n",
            "1563/1563 [==============================] - 96s 61ms/step - loss: 2.3842e-12 - accuracy: 0.1000 - val_loss: 32311.8398 - val_accuracy: 0.1000\n",
            "Epoch 5/20\n",
            "1563/1563 [==============================] - 96s 61ms/step - loss: 2.3842e-12 - accuracy: 0.1000 - val_loss: 32312.5176 - val_accuracy: 0.1000\n",
            "Epoch 6/20\n",
            "1563/1563 [==============================] - 99s 63ms/step - loss: 2.3842e-12 - accuracy: 0.1000 - val_loss: 32313.6289 - val_accuracy: 0.1000\n",
            "Epoch 7/20\n",
            "1563/1563 [==============================] - 99s 63ms/step - loss: 2.3842e-12 - accuracy: 0.1000 - val_loss: 32315.4531 - val_accuracy: 0.1000\n",
            "Epoch 8/20\n",
            "1563/1563 [==============================] - 98s 62ms/step - loss: 2.3842e-12 - accuracy: 0.1000 - val_loss: 32318.2109 - val_accuracy: 0.1000\n",
            "Epoch 9/20\n",
            " 647/1563 [===========>..................] - ETA: 55s - loss: 0.0000e+00 - accuracy: 0.1036"
          ]
        }
      ]
    }
  ]
}